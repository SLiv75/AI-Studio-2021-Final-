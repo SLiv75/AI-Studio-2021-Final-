{
  "nbformat": 4,
  "nbformat_minor": 0,
  "metadata": {
    "colab": {
      "name": "scaper_soundscape_generation.ipynb",
      "provenance": [],
      "include_colab_link": true
    },
    "kernelspec": {
      "name": "python3",
      "display_name": "Python 3"
    },
    "language_info": {
      "name": "python"
    }
  },
  "cells": [
    {
      "cell_type": "markdown",
      "metadata": {
        "id": "view-in-github",
        "colab_type": "text"
      },
      "source": [
        "<a href=\"https://colab.research.google.com/github/SLiv75/AI-Studio-2021-Final-/blob/main/scaper_soundscape_generation.ipynb\" target=\"_parent\"><img src=\"https://colab.research.google.com/assets/colab-badge.svg\" alt=\"Open In Colab\"/></a>"
      ]
    },
    {
      "cell_type": "code",
      "metadata": {
        "colab": {
          "base_uri": "https://localhost:8080/"
        },
        "id": "9PqQXH8euH1b",
        "outputId": "ed6bf59a-e55b-4496-c4a4-08214513781f"
      },
      "source": [
        "!pip install scaper"
      ],
      "execution_count": null,
      "outputs": [
        {
          "output_type": "stream",
          "name": "stdout",
          "text": [
            "Requirement already satisfied: scaper in /usr/local/lib/python3.7/dist-packages (1.6.5)\n",
            "Requirement already satisfied: numpy>=1.13.3 in /usr/local/lib/python3.7/dist-packages (from scaper) (1.19.5)\n",
            "Requirement already satisfied: soundfile in /usr/local/lib/python3.7/dist-packages (from scaper) (0.10.3.post1)\n",
            "Requirement already satisfied: soxbindings>=1.2.2 in /usr/local/lib/python3.7/dist-packages (from scaper) (1.2.3)\n",
            "Requirement already satisfied: jams>=0.3.2 in /usr/local/lib/python3.7/dist-packages (from scaper) (0.3.4)\n",
            "Requirement already satisfied: sox==1.4.0 in /usr/local/lib/python3.7/dist-packages (from scaper) (1.4.0)\n",
            "Requirement already satisfied: pyloudnorm in /usr/local/lib/python3.7/dist-packages (from scaper) (0.1.0)\n",
            "Requirement already satisfied: decorator in /usr/local/lib/python3.7/dist-packages (from jams>=0.3.2->scaper) (4.4.2)\n",
            "Requirement already satisfied: jsonschema>=3.0.0 in /usr/local/lib/python3.7/dist-packages (from jams>=0.3.2->scaper) (4.0.1)\n",
            "Requirement already satisfied: mir-eval>=0.5 in /usr/local/lib/python3.7/dist-packages (from jams>=0.3.2->scaper) (0.6)\n",
            "Requirement already satisfied: pandas in /usr/local/lib/python3.7/dist-packages (from jams>=0.3.2->scaper) (1.1.5)\n",
            "Requirement already satisfied: six in /usr/local/lib/python3.7/dist-packages (from jams>=0.3.2->scaper) (1.15.0)\n",
            "Requirement already satisfied: sortedcontainers>=2.0.0 in /usr/local/lib/python3.7/dist-packages (from jams>=0.3.2->scaper) (2.4.0)\n",
            "Requirement already satisfied: attrs>=17.4.0 in /usr/local/lib/python3.7/dist-packages (from jsonschema>=3.0.0->jams>=0.3.2->scaper) (21.2.0)\n",
            "Requirement already satisfied: pyrsistent!=0.17.0,!=0.17.1,!=0.17.2,>=0.14.0 in /usr/local/lib/python3.7/dist-packages (from jsonschema>=3.0.0->jams>=0.3.2->scaper) (0.18.0)\n",
            "Requirement already satisfied: importlib-metadata in /usr/local/lib/python3.7/dist-packages (from jsonschema>=3.0.0->jams>=0.3.2->scaper) (4.8.1)\n",
            "Requirement already satisfied: future in /usr/local/lib/python3.7/dist-packages (from mir-eval>=0.5->jams>=0.3.2->scaper) (0.16.0)\n",
            "Requirement already satisfied: scipy>=1.0.0 in /usr/local/lib/python3.7/dist-packages (from mir-eval>=0.5->jams>=0.3.2->scaper) (1.4.1)\n",
            "Requirement already satisfied: typing-extensions>=3.6.4 in /usr/local/lib/python3.7/dist-packages (from importlib-metadata->jsonschema>=3.0.0->jams>=0.3.2->scaper) (3.7.4.3)\n",
            "Requirement already satisfied: zipp>=0.5 in /usr/local/lib/python3.7/dist-packages (from importlib-metadata->jsonschema>=3.0.0->jams>=0.3.2->scaper) (3.5.0)\n",
            "Requirement already satisfied: python-dateutil>=2.7.3 in /usr/local/lib/python3.7/dist-packages (from pandas->jams>=0.3.2->scaper) (2.8.2)\n",
            "Requirement already satisfied: pytz>=2017.2 in /usr/local/lib/python3.7/dist-packages (from pandas->jams>=0.3.2->scaper) (2018.9)\n",
            "Requirement already satisfied: cffi>=1.0 in /usr/local/lib/python3.7/dist-packages (from soundfile->scaper) (1.14.6)\n",
            "Requirement already satisfied: pycparser in /usr/local/lib/python3.7/dist-packages (from cffi>=1.0->soundfile->scaper) (2.20)\n"
          ]
        }
      ]
    },
    {
      "cell_type": "code",
      "metadata": {
        "colab": {
          "base_uri": "https://localhost:8080/"
        },
        "id": "HlJ8z14GzXUV",
        "outputId": "915c5e01-b91d-430b-eb4b-8a75f482e3cd"
      },
      "source": [
        " !git clone git://git.code.sf.net/p/sox/code sox"
      ],
      "execution_count": null,
      "outputs": [
        {
          "output_type": "stream",
          "name": "stdout",
          "text": [
            "fatal: destination path 'sox' already exists and is not an empty directory.\n"
          ]
        }
      ]
    },
    {
      "cell_type": "code",
      "metadata": {
        "colab": {
          "base_uri": "https://localhost:8080/"
        },
        "id": "QPRy0Ecv6lPx",
        "outputId": "aeee56f2-06c1-401d-bec3-f7b306984bb4"
      },
      "source": [
        "from google.colab import drive\n",
        "drive.mount('/content/drive')"
      ],
      "execution_count": null,
      "outputs": [
        {
          "output_type": "stream",
          "name": "stdout",
          "text": [
            "Mounted at /content/drive\n"
          ]
        }
      ]
    },
    {
      "cell_type": "code",
      "metadata": {
        "id": "IvkaEqy6aVug",
        "colab": {
          "base_uri": "https://localhost:8080/"
        },
        "outputId": "a59ea5e3-d99f-45d6-c18f-566998721761"
      },
      "source": [
        "import scaper\n",
        "import os\n",
        "\n",
        "path_to_audio = os.path.expanduser('/content/drive/MyDrive/scaper-master')\n",
        "\n",
        "soundscape_duration = 10.0\n",
        "seed = 123\n",
        "foreground_folder = os.path.join('/content/drive/MyDrive/scaper-master/scaper-master/tests/data/audio/', 'foreground')\n",
        "background_folder = os.path.join('/content/drive/MyDrive/scaper-master/scaper-master/tests/data/audio/', 'background')\n",
        "sc = scaper.Scaper(soundscape_duration, foreground_folder, background_folder)\n",
        "sc.ref_db = -20"
      ],
      "execution_count": null,
      "outputs": [
        {
          "output_type": "stream",
          "name": "stderr",
          "text": [
            "SoX could not be found!\n",
            "\n",
            "    If you do not have SoX, proceed here:\n",
            "     - - - http://sox.sourceforge.net/ - - -\n",
            "\n",
            "    If you do (or think that you should) have SoX, double-check your\n",
            "    path variables.\n",
            "    \n"
          ]
        }
      ]
    },
    {
      "cell_type": "code",
      "metadata": {
        "id": "XBfWdb4pgCHL"
      },
      "source": [
        "sc.add_background(label=('const', 'park'),\n",
        "                  source_file=('choose', []),\n",
        "                  source_time=('const', 0))"
      ],
      "execution_count": null,
      "outputs": []
    },
    {
      "cell_type": "code",
      "metadata": {
        "id": "eraigeYGgHZm"
      },
      "source": [
        "sc.add_event(label=('const', 'siren'),\n",
        "             source_file=('choose', []),\n",
        "             source_time=('const', 0),\n",
        "             event_time=('uniform', 0, 9),\n",
        "             event_duration=('truncnorm', 3, 1, 0.5, 5),\n",
        "             snr=('normal', 10, 3),\n",
        "             pitch_shift=('uniform', -2, 2),\n",
        "             time_stretch=('uniform', 0.8, 1.2))"
      ],
      "execution_count": null,
      "outputs": []
    },
    {
      "cell_type": "code",
      "metadata": {
        "id": "clkv7xFChhKF"
      },
      "source": [
        "for _ in range(2):\n",
        "    sc.add_event(label=('choose', []),\n",
        "                 source_file=('choose', []),\n",
        "                 source_time=('const', 0),\n",
        "                 event_time=('uniform', 0, 9),\n",
        "                 event_duration=('truncnorm', 3, 1, 0.5, 5),\n",
        "                 snr=('normal', 10, 3),\n",
        "                 pitch_shift=None,\n",
        "                 time_stretch=None)"
      ],
      "execution_count": null,
      "outputs": []
    },
    {
      "cell_type": "code",
      "metadata": {
        "colab": {
          "base_uri": "https://localhost:8080/"
        },
        "id": "37sDwNXngSzW",
        "outputId": "9c3d8b21-cc4b-4083-8dcf-c39102dc4475"
      },
      "source": [
        "audiofile = 'ambience.wav'\n",
        "jamsfile = 'ambience.jams'\n",
        "txtfile = 'ambience.txt'\n",
        "sc.generate(audiofile, jamsfile,\n",
        "            allow_repeated_label=True,\n",
        "            allow_repeated_source=True,\n",
        "            reverb=0.1,\n",
        "            disable_sox_warnings=True,\n",
        "            no_audio=False,\n",
        "            txt_path=txtfile)"
      ],
      "execution_count": null,
      "outputs": [
        {
          "output_type": "stream",
          "name": "stderr",
          "text": [
            "/usr/local/lib/python3.7/dist-packages/scaper/core.py:2078: ScaperWarning: Soundscape audio is clipping!\n",
            "  ScaperWarning)\n"
          ]
        },
        {
          "output_type": "execute_result",
          "data": {
            "text/plain": [
              "(array([[ 0.05193615],\n",
              "        [ 0.1118443 ],\n",
              "        [ 0.11812282],\n",
              "        ...,\n",
              "        [-0.23112257],\n",
              "        [-0.25358068],\n",
              "        [-0.36634991]]), <JAMS(file_metadata=<FileMetadata(...)>,\n",
              "       annotations=[1 annotation],\n",
              "       sandbox=<Sandbox(...)>)>, [[0.32326140444821216,\n",
              "   3.124519995974415,\n",
              "   'siren'],\n",
              "  [0.8397316929257063, 4.579963690215385, 'siren'],\n",
              "  [2.7997696323120804, 4.6789633360164276, 'siren']], [array([[ 0.12215784],\n",
              "         [ 0.21274097],\n",
              "         [ 0.20190239],\n",
              "         ...,\n",
              "         [-0.10243166],\n",
              "         [-0.14008225],\n",
              "         [-0.22597106]]), array([[-0.03511084],\n",
              "         [-0.05044835],\n",
              "         [-0.04188979],\n",
              "         ...,\n",
              "         [-0.05980973],\n",
              "         [-0.05573818],\n",
              "         [-0.07028794]]), array([[-0.03511084],\n",
              "         [-0.05044835],\n",
              "         [-0.04188979],\n",
              "         ...,\n",
              "         [-0.05980973],\n",
              "         [-0.05573818],\n",
              "         [-0.07028794]]), array([[0.],\n",
              "         [0.],\n",
              "         [0.],\n",
              "         ...,\n",
              "         [0.],\n",
              "         [0.],\n",
              "         [0.]]), array([[0.],\n",
              "         [0.],\n",
              "         [0.],\n",
              "         ...,\n",
              "         [0.],\n",
              "         [0.],\n",
              "         [0.]]), array([[0.],\n",
              "         [0.],\n",
              "         [0.],\n",
              "         ...,\n",
              "         [0.],\n",
              "         [0.],\n",
              "         [0.]])])"
            ]
          },
          "metadata": {},
          "execution_count": 15
        }
      ]
    },
    {
      "cell_type": "code",
      "metadata": {
        "id": "I2NCXGvJYXbW"
      },
      "source": [
        ""
      ],
      "execution_count": null,
      "outputs": []
    }
  ]
}